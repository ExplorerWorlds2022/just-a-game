{
  "nbformat": 4,
  "nbformat_minor": 0,
  "metadata": {
    "colab": {
      "provenance": [],
      "authorship_tag": "ABX9TyMAy4+5tVoIl0kymcL1Q190",
      "include_colab_link": true
    },
    "kernelspec": {
      "name": "python3",
      "display_name": "Python 3"
    },
    "language_info": {
      "name": "python"
    }
  },
  "cells": [
    {
      "cell_type": "markdown",
      "metadata": {
        "id": "view-in-github",
        "colab_type": "text"
      },
      "source": [
        "<a href=\"https://colab.research.google.com/github/ExplorerWorlds2022/just-a-game/blob/main/calculator.ipynb\" target=\"_parent\"><img src=\"https://colab.research.google.com/assets/colab-badge.svg\" alt=\"Open In Colab\"/></a>"
      ]
    },
    {
      "cell_type": "code",
      "execution_count": null,
      "metadata": {
        "id": "x86u-akb9xmq"
      },
      "outputs": [],
      "source": [
        "print(type(4) == int)"
      ]
    },
    {
      "cell_type": "markdown",
      "source": [
        "    Привет\n",
        "\n"
      ],
      "metadata": {
        "id": "3HOdI16wKnHF"
      }
    }
  ]
}